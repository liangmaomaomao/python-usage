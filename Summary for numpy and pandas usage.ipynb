{
 "cells": [
  {
   "cell_type": "code",
   "execution_count": null,
   "id": "cbc60599-37fa-4daf-bbfe-9c93f69b4262",
   "metadata": {},
   "outputs": [],
   "source": [
    "#Summary for numpy, pandas usage in python"
   ]
  },
  {
   "cell_type": "markdown",
   "id": "14ee1ef8-a586-4e9a-be6f-e613d2350093",
   "metadata": {},
   "source": [
    "# numpy usage"
   ]
  },
  {
   "cell_type": "markdown",
   "id": "4e647744-6a8b-4303-b2f1-283587ec4804",
   "metadata": {},
   "source": [
    "## construct np data"
   ]
  },
  {
   "cell_type": "code",
   "execution_count": 58,
   "id": "715086e2-8478-4f67-aafc-22cbe3442ffe",
   "metadata": {},
   "outputs": [
    {
     "data": {
      "text/plain": [
       "array([[0., 0., 0., 0.],\n",
       "       [0., 0., 0., 0.],\n",
       "       [0., 0., 0., 0.]])"
      ]
     },
     "execution_count": 58,
     "metadata": {},
     "output_type": "execute_result"
    }
   ],
   "source": [
    "import numpy as np\n",
    "np.zeros((3,4))"
   ]
  },
  {
   "cell_type": "code",
   "execution_count": 3,
   "id": "989913de-e73d-41ba-a375-109698375163",
   "metadata": {},
   "outputs": [
    {
     "data": {
      "text/plain": [
       "array([[1., 1., 1., 1.],\n",
       "       [1., 1., 1., 1.],\n",
       "       [1., 1., 1., 1.]])"
      ]
     },
     "execution_count": 3,
     "metadata": {},
     "output_type": "execute_result"
    }
   ],
   "source": [
    "np.ones((3,4))"
   ]
  },
  {
   "cell_type": "code",
   "execution_count": 4,
   "id": "9ab95b48-5b92-4442-9d49-5728202566c3",
   "metadata": {},
   "outputs": [
    {
     "data": {
      "text/plain": [
       "array([[2, 2, 2, 2],\n",
       "       [2, 2, 2, 2],\n",
       "       [2, 2, 2, 2]])"
      ]
     },
     "execution_count": 4,
     "metadata": {},
     "output_type": "execute_result"
    }
   ],
   "source": [
    "np.full((3,4),2)"
   ]
  },
  {
   "cell_type": "code",
   "execution_count": 6,
   "id": "164345c9-81af-48e5-bd71-ec4b351f0c62",
   "metadata": {},
   "outputs": [
    {
     "data": {
      "text/plain": [
       "array([1, 2, 3, 4, 5, 6, 7, 8, 9])"
      ]
     },
     "execution_count": 6,
     "metadata": {},
     "output_type": "execute_result"
    }
   ],
   "source": [
    "np.arange(1,10)"
   ]
  },
  {
   "cell_type": "code",
   "execution_count": 9,
   "id": "d7a327b2-3d43-443b-a18c-4810cce574aa",
   "metadata": {},
   "outputs": [
    {
     "data": {
      "text/plain": [
       "array([0.        , 0.10526316, 0.21052632, 0.31578947, 0.42105263,\n",
       "       0.52631579, 0.63157895, 0.73684211, 0.84210526, 0.94736842,\n",
       "       1.05263158, 1.15789474, 1.26315789, 1.36842105, 1.47368421,\n",
       "       1.57894737, 1.68421053, 1.78947368, 1.89473684, 2.        ])"
      ]
     },
     "execution_count": 9,
     "metadata": {},
     "output_type": "execute_result"
    }
   ],
   "source": [
    "np.linspace(0,2,20)"
   ]
  },
  {
   "cell_type": "code",
   "execution_count": 7,
   "id": "1cc73897-ec3c-4eea-b565-d03489ce1b05",
   "metadata": {},
   "outputs": [
    {
     "data": {
      "text/plain": [
       "array([0, 2, 5, 6, 8])"
      ]
     },
     "execution_count": 7,
     "metadata": {},
     "output_type": "execute_result"
    }
   ],
   "source": [
    "np.array([0,2,5,6,8])"
   ]
  },
  {
   "cell_type": "code",
   "execution_count": 12,
   "id": "044faeaa-c766-49bc-9f9b-4f6d41f36163",
   "metadata": {},
   "outputs": [
    {
     "data": {
      "text/plain": [
       "array([[7, 9, 1],\n",
       "       [7, 3, 7]])"
      ]
     },
     "execution_count": 12,
     "metadata": {},
     "output_type": "execute_result"
    }
   ],
   "source": [
    "np.random.randint(10,size=(2,3))"
   ]
  },
  {
   "cell_type": "code",
   "execution_count": 44,
   "id": "01f580ba-4290-4523-8283-63d62fdab824",
   "metadata": {},
   "outputs": [],
   "source": [
    "s=np.random.normal(0,1,size=(10,100))"
   ]
  },
  {
   "cell_type": "code",
   "execution_count": 45,
   "id": "4f8bf4d6-9afa-4afe-8dde-fce5789610ab",
   "metadata": {},
   "outputs": [],
   "source": [
    "s_mean_square=s.mean(axis=0)**2"
   ]
  },
  {
   "cell_type": "code",
   "execution_count": 46,
   "id": "873cb785-da69-4d0e-a2a1-b31439b53d65",
   "metadata": {},
   "outputs": [],
   "source": [
    "s_std=s.std(axis=0)*10/9"
   ]
  },
  {
   "cell_type": "code",
   "execution_count": 47,
   "id": "1925ff65-db3c-45e9-a9bc-beec94b95793",
   "metadata": {},
   "outputs": [
    {
     "data": {
      "text/plain": [
       "0.11004755632605613"
      ]
     },
     "execution_count": 47,
     "metadata": {},
     "output_type": "execute_result"
    }
   ],
   "source": [
    "(s_mean_square/s_std).mean()"
   ]
  },
  {
   "cell_type": "code",
   "execution_count": 48,
   "id": "5d9f39ee-5492-469c-876c-61f615117aa0",
   "metadata": {},
   "outputs": [
    {
     "data": {
      "text/plain": [
       "0.1285714285714286"
      ]
     },
     "execution_count": 48,
     "metadata": {},
     "output_type": "execute_result"
    }
   ],
   "source": [
    "9/7/10"
   ]
  },
  {
   "cell_type": "markdown",
   "id": "fb3f3216-6b32-4055-ad8c-6c1f66f47495",
   "metadata": {},
   "source": [
    "## index numpy"
   ]
  },
  {
   "cell_type": "code",
   "execution_count": 49,
   "id": "3cd28c53-8d44-42dc-8759-746c3df48738",
   "metadata": {},
   "outputs": [],
   "source": [
    "a=np.array([0,2,5,6,9])"
   ]
  },
  {
   "cell_type": "code",
   "execution_count": 50,
   "id": "8d1be6d2-0209-4285-962f-895d3c2b5843",
   "metadata": {},
   "outputs": [
    {
     "data": {
      "text/plain": [
       "2"
      ]
     },
     "execution_count": 50,
     "metadata": {},
     "output_type": "execute_result"
    }
   ],
   "source": [
    "a[1]"
   ]
  },
  {
   "cell_type": "code",
   "execution_count": 51,
   "id": "defe8ef8-afc9-458c-b2cb-d47a5bd2987e",
   "metadata": {},
   "outputs": [
    {
     "data": {
      "text/plain": [
       "array([0, 2, 5])"
      ]
     },
     "execution_count": 51,
     "metadata": {},
     "output_type": "execute_result"
    }
   ],
   "source": [
    "a[0:3]"
   ]
  },
  {
   "cell_type": "code",
   "execution_count": 52,
   "id": "45bd6d42-e115-4eec-9439-0bdf8d8a8048",
   "metadata": {},
   "outputs": [
    {
     "data": {
      "text/plain": [
       "9"
      ]
     },
     "execution_count": 52,
     "metadata": {},
     "output_type": "execute_result"
    }
   ],
   "source": [
    "a[-1]"
   ]
  },
  {
   "cell_type": "code",
   "execution_count": 55,
   "id": "b133c72e-ff40-46ff-95ce-62584b9e2840",
   "metadata": {},
   "outputs": [
    {
     "data": {
      "text/plain": [
       "array([6])"
      ]
     },
     "execution_count": 55,
     "metadata": {},
     "output_type": "execute_result"
    }
   ],
   "source": [
    "a[-2:-1]"
   ]
  },
  {
   "cell_type": "code",
   "execution_count": 56,
   "id": "fc9f204c-20da-4449-bfea-3d1b15e2e001",
   "metadata": {},
   "outputs": [
    {
     "data": {
      "text/plain": [
       "array([0, 5, 9])"
      ]
     },
     "execution_count": 56,
     "metadata": {},
     "output_type": "execute_result"
    }
   ],
   "source": [
    "a[::2]"
   ]
  },
  {
   "cell_type": "code",
   "execution_count": 57,
   "id": "01ec45b0-1887-428a-be0b-ff35ac1797cc",
   "metadata": {},
   "outputs": [
    {
     "data": {
      "text/plain": [
       "array([9, 6, 5, 2, 0])"
      ]
     },
     "execution_count": 57,
     "metadata": {},
     "output_type": "execute_result"
    }
   ],
   "source": [
    "a[::-1]"
   ]
  },
  {
   "cell_type": "code",
   "execution_count": 59,
   "id": "7e5273c9-9159-4773-8251-4807cd7e67c9",
   "metadata": {},
   "outputs": [
    {
     "data": {
      "text/plain": [
       "-2.2389545718788813"
      ]
     },
     "execution_count": 59,
     "metadata": {},
     "output_type": "execute_result"
    }
   ],
   "source": [
    "s[0,1]"
   ]
  },
  {
   "cell_type": "code",
   "execution_count": 60,
   "id": "d2e700d4-62ad-4db8-b38b-c409033ae72b",
   "metadata": {},
   "outputs": [
    {
     "data": {
      "text/plain": [
       "array([[-1.9003874 , -1.21967461],\n",
       "       [-0.22528338,  0.29502568]])"
      ]
     },
     "execution_count": 60,
     "metadata": {},
     "output_type": "execute_result"
    }
   ],
   "source": [
    "s[1:3,2:4]"
   ]
  },
  {
   "cell_type": "code",
   "execution_count": 61,
   "id": "ebfb1707-d60a-4952-b687-5acfb1ee425c",
   "metadata": {},
   "outputs": [
    {
     "data": {
      "text/plain": [
       "array([ 0.81192976,  0.69150002, -1.9003874 , -1.21967461,  1.51717907,\n",
       "       -1.00492202,  0.16675044,  0.67881463, -0.73809753, -0.10446252,\n",
       "       -0.63726253,  0.17486457, -0.09710027, -1.71629881, -0.02261325,\n",
       "       -1.7542553 ,  0.67489189,  0.08105935, -0.65196046, -2.05719343,\n",
       "       -1.43923651,  0.32777288, -1.47777341, -0.52141085, -0.5191718 ,\n",
       "       -1.06650498,  0.12346097,  0.77436425, -1.61995782,  0.0151088 ,\n",
       "        0.64635395, -0.98078627, -0.85875464, -0.53678008,  0.74984269,\n",
       "        0.4482447 , -0.18454625,  1.49118591,  1.90653489,  1.7738534 ,\n",
       "       -0.87220266, -0.65721126,  0.83497317,  1.06503574, -0.73951491,\n",
       "        1.30743763, -0.75559763, -0.94266403,  0.70061484,  1.65807085,\n",
       "        1.47744223,  0.51240777, -0.23439146,  0.82592286,  0.2678051 ,\n",
       "       -0.05397431, -0.14612757,  0.1353896 ,  0.40292116, -0.42782156,\n",
       "        0.99923594,  0.56703379, -1.91424269, -1.36177309,  1.52484191,\n",
       "       -1.10322409,  1.34609812,  0.12183728,  0.39047226, -0.49018385,\n",
       "       -1.34510257,  0.41948921,  0.86393433, -1.72096993, -1.26527111,\n",
       "       -1.01655797,  0.4526475 , -0.86499819, -0.30354948, -1.59891368,\n",
       "        0.31814753,  0.05094211, -0.07938844,  0.1351722 , -0.13371659,\n",
       "        1.1786766 ,  0.29972163,  0.26170944, -0.89530605, -1.165707  ,\n",
       "        0.19071887,  0.9983024 ,  0.17405136, -0.21237159,  2.35840323,\n",
       "       -0.22396409, -0.45844853,  0.62287183,  0.47201393,  0.93437687])"
      ]
     },
     "execution_count": 61,
     "metadata": {},
     "output_type": "execute_result"
    }
   ],
   "source": [
    "s[1,:]"
   ]
  },
  {
   "cell_type": "markdown",
   "id": "b34db163-ccb1-4208-aedd-20fcf9a60694",
   "metadata": {},
   "source": [
    "## calculation and manipulation"
   ]
  },
  {
   "cell_type": "code",
   "execution_count": 62,
   "id": "c4f7884d-c30f-4cf2-972f-b03cac05cf22",
   "metadata": {},
   "outputs": [
    {
     "data": {
      "text/plain": [
       "array([ 0,  4, 10, 12, 18])"
      ]
     },
     "execution_count": 62,
     "metadata": {},
     "output_type": "execute_result"
    }
   ],
   "source": [
    "a+a"
   ]
  },
  {
   "cell_type": "code",
   "execution_count": 63,
   "id": "3dbb1cd1-864d-4d2d-ad2e-d64556ab38ab",
   "metadata": {},
   "outputs": [
    {
     "data": {
      "text/plain": [
       "array([ 5,  7, 10, 11, 14])"
      ]
     },
     "execution_count": 63,
     "metadata": {},
     "output_type": "execute_result"
    }
   ],
   "source": [
    "a+5"
   ]
  },
  {
   "cell_type": "code",
   "execution_count": 64,
   "id": "23a2fa63-35dd-45a6-872a-e5f8df08a921",
   "metadata": {},
   "outputs": [
    {
     "data": {
      "text/plain": [
       "4.4"
      ]
     },
     "execution_count": 64,
     "metadata": {},
     "output_type": "execute_result"
    }
   ],
   "source": [
    "a.mean()"
   ]
  },
  {
   "cell_type": "code",
   "execution_count": 65,
   "id": "81f77fa7-89f0-46ec-a165-35e6475fe4a4",
   "metadata": {},
   "outputs": [
    {
     "data": {
      "text/plain": [
       "3.1368774282716245"
      ]
     },
     "execution_count": 65,
     "metadata": {},
     "output_type": "execute_result"
    }
   ],
   "source": [
    "a.std()"
   ]
  },
  {
   "cell_type": "code",
   "execution_count": 67,
   "id": "1b420c21-e285-43b1-9b93-14f8873aaff5",
   "metadata": {},
   "outputs": [
    {
     "data": {
      "text/plain": [
       "array([0, 2, 5, 6, 9, 0, 2, 5, 6, 9])"
      ]
     },
     "execution_count": 67,
     "metadata": {},
     "output_type": "execute_result"
    }
   ],
   "source": [
    "np.hstack((a,a))"
   ]
  },
  {
   "cell_type": "code",
   "execution_count": 68,
   "id": "964b8e55-d775-4c3a-b404-258de12c8472",
   "metadata": {},
   "outputs": [
    {
     "data": {
      "text/plain": [
       "array([[0, 2, 5, 6, 9],\n",
       "       [0, 2, 5, 6, 9]])"
      ]
     },
     "execution_count": 68,
     "metadata": {},
     "output_type": "execute_result"
    }
   ],
   "source": [
    "np.vstack((a,a))"
   ]
  },
  {
   "cell_type": "code",
   "execution_count": 72,
   "id": "51c0a624-f865-4086-a3fe-c6a29812f62a",
   "metadata": {},
   "outputs": [
    {
     "data": {
      "text/plain": [
       "array([0, 2, 5, 6, 9, 0, 2, 5, 6, 9])"
      ]
     },
     "execution_count": 72,
     "metadata": {},
     "output_type": "execute_result"
    }
   ],
   "source": [
    "np.concatenate((a,a),axis=0)"
   ]
  },
  {
   "cell_type": "markdown",
   "id": "eb24abd9-74ac-49ac-a899-b124fefab086",
   "metadata": {},
   "source": [
    "# Pandas usage"
   ]
  },
  {
   "cell_type": "markdown",
   "id": "163bb084-0f2c-4bc5-9d7f-98ffac05d6ec",
   "metadata": {},
   "source": [
    "## series"
   ]
  },
  {
   "cell_type": "code",
   "execution_count": 74,
   "id": "c02e29ec-e65a-46f4-ba16-6356daecf90f",
   "metadata": {},
   "outputs": [],
   "source": [
    "import pandas as pd"
   ]
  },
  {
   "cell_type": "markdown",
   "id": "a130fc01-fd88-4cd0-8605-c40f1dc05103",
   "metadata": {},
   "source": [
    "### construct series"
   ]
  },
  {
   "cell_type": "code",
   "execution_count": 78,
   "id": "16669b8c-43b3-49a4-bad4-d25af7abf328",
   "metadata": {},
   "outputs": [],
   "source": [
    "q=pd.Series([1,3,4],index=['a','d','e'])"
   ]
  },
  {
   "cell_type": "code",
   "execution_count": 77,
   "id": "38569a7f-25c2-466f-849e-f1e25e518a55",
   "metadata": {},
   "outputs": [
    {
     "data": {
      "text/plain": [
       "a    1\n",
       "d    3\n",
       "e    4\n",
       "dtype: int64"
      ]
     },
     "execution_count": 77,
     "metadata": {},
     "output_type": "execute_result"
    }
   ],
   "source": [
    "a={'a':1,'d':3,'e':4}\n",
    "pd.Series(a)"
   ]
  },
  {
   "cell_type": "markdown",
   "id": "7045b6c3-9ee7-413b-96d3-59a0dbdaf4bc",
   "metadata": {},
   "source": [
    "### index series"
   ]
  },
  {
   "cell_type": "code",
   "execution_count": 79,
   "id": "56d744b7-13a6-4534-9ad3-f88a41db94da",
   "metadata": {},
   "outputs": [
    {
     "data": {
      "text/plain": [
       "1"
      ]
     },
     "execution_count": 79,
     "metadata": {},
     "output_type": "execute_result"
    }
   ],
   "source": [
    "q[0]"
   ]
  },
  {
   "cell_type": "code",
   "execution_count": 80,
   "id": "f8339241-b13e-4c2c-829d-20d9f4ffa328",
   "metadata": {},
   "outputs": [
    {
     "data": {
      "text/plain": [
       "1"
      ]
     },
     "execution_count": 80,
     "metadata": {},
     "output_type": "execute_result"
    }
   ],
   "source": [
    "q['a']"
   ]
  },
  {
   "cell_type": "code",
   "execution_count": 82,
   "id": "c090d37c-bb0e-41f9-9e6f-c17b090bbe1d",
   "metadata": {},
   "outputs": [
    {
     "data": {
      "text/plain": [
       "a    1\n",
       "d    3\n",
       "dtype: int64"
      ]
     },
     "execution_count": 82,
     "metadata": {},
     "output_type": "execute_result"
    }
   ],
   "source": [
    "q[0:2]"
   ]
  },
  {
   "cell_type": "code",
   "execution_count": 83,
   "id": "8a1312e7-986b-43c4-ba42-fa0d3fd3c1ce",
   "metadata": {},
   "outputs": [
    {
     "data": {
      "text/plain": [
       "a    1\n",
       "d    3\n",
       "e    4\n",
       "dtype: int64"
      ]
     },
     "execution_count": 83,
     "metadata": {},
     "output_type": "execute_result"
    }
   ],
   "source": [
    "q['a':'e']"
   ]
  },
  {
   "cell_type": "code",
   "execution_count": 85,
   "id": "8f6ad496-d262-4742-b24a-23d1ea1551b9",
   "metadata": {},
   "outputs": [
    {
     "data": {
      "text/plain": [
       "a    1\n",
       "e    4\n",
       "dtype: int64"
      ]
     },
     "execution_count": 85,
     "metadata": {},
     "output_type": "execute_result"
    }
   ],
   "source": [
    "q[['a','e']]"
   ]
  },
  {
   "cell_type": "markdown",
   "id": "fbeed13e-db72-437d-89fa-478b52308d9f",
   "metadata": {},
   "source": [
    "### manipulation series"
   ]
  },
  {
   "cell_type": "code",
   "execution_count": null,
   "id": "150923bd-bbcb-4fff-ba4e-cbb249514e66",
   "metadata": {},
   "outputs": [],
   "source": []
  },
  {
   "cell_type": "markdown",
   "id": "42e6f4d0-f4e4-48ab-9b44-ec61f961b80f",
   "metadata": {},
   "source": [
    "## DataFrame"
   ]
  },
  {
   "cell_type": "markdown",
   "id": "73761864-60a2-4037-9959-aa85ebfdd92e",
   "metadata": {},
   "source": [
    "### construct dataframe"
   ]
  },
  {
   "cell_type": "code",
   "execution_count": 91,
   "id": "8289017f-2b7b-4ff0-b91c-bd93846cfdf9",
   "metadata": {},
   "outputs": [],
   "source": [
    "a=pd.DataFrame([[0,1,2],[2,3,4]],columns=['one','two','three'],index=['a','b'])\n"
   ]
  },
  {
   "cell_type": "code",
   "execution_count": 87,
   "id": "df2ed239-4219-4e1f-8320-24836bf30853",
   "metadata": {},
   "outputs": [
    {
     "data": {
      "text/html": [
       "<div>\n",
       "<style scoped>\n",
       "    .dataframe tbody tr th:only-of-type {\n",
       "        vertical-align: middle;\n",
       "    }\n",
       "\n",
       "    .dataframe tbody tr th {\n",
       "        vertical-align: top;\n",
       "    }\n",
       "\n",
       "    .dataframe thead th {\n",
       "        text-align: right;\n",
       "    }\n",
       "</style>\n",
       "<table border=\"1\" class=\"dataframe\">\n",
       "  <thead>\n",
       "    <tr style=\"text-align: right;\">\n",
       "      <th></th>\n",
       "      <th>one</th>\n",
       "      <th>two</th>\n",
       "      <th>three</th>\n",
       "    </tr>\n",
       "  </thead>\n",
       "  <tbody>\n",
       "    <tr>\n",
       "      <th>0</th>\n",
       "      <td>0</td>\n",
       "      <td>1</td>\n",
       "      <td>2</td>\n",
       "    </tr>\n",
       "    <tr>\n",
       "      <th>1</th>\n",
       "      <td>2</td>\n",
       "      <td>3</td>\n",
       "      <td>4</td>\n",
       "    </tr>\n",
       "  </tbody>\n",
       "</table>\n",
       "</div>"
      ],
      "text/plain": [
       "   one  two  three\n",
       "0    0    1      2\n",
       "1    2    3      4"
      ]
     },
     "execution_count": 87,
     "metadata": {},
     "output_type": "execute_result"
    }
   ],
   "source": [
    "pd.DataFrame({'one':[0,2],'two':[1,3],'three':[2,4]})\n"
   ]
  },
  {
   "cell_type": "code",
   "execution_count": 90,
   "id": "0082b91c-f550-455e-adb4-ce7edf21bdbf",
   "metadata": {},
   "outputs": [
    {
     "data": {
      "text/html": [
       "<div>\n",
       "<style scoped>\n",
       "    .dataframe tbody tr th:only-of-type {\n",
       "        vertical-align: middle;\n",
       "    }\n",
       "\n",
       "    .dataframe tbody tr th {\n",
       "        vertical-align: top;\n",
       "    }\n",
       "\n",
       "    .dataframe thead th {\n",
       "        text-align: right;\n",
       "    }\n",
       "</style>\n",
       "<table border=\"1\" class=\"dataframe\">\n",
       "  <thead>\n",
       "    <tr style=\"text-align: right;\">\n",
       "      <th></th>\n",
       "      <th>one</th>\n",
       "      <th>two</th>\n",
       "    </tr>\n",
       "  </thead>\n",
       "  <tbody>\n",
       "    <tr>\n",
       "      <th>0</th>\n",
       "      <td>1</td>\n",
       "      <td>2</td>\n",
       "    </tr>\n",
       "    <tr>\n",
       "      <th>1</th>\n",
       "      <td>3</td>\n",
       "      <td>4</td>\n",
       "    </tr>\n",
       "  </tbody>\n",
       "</table>\n",
       "</div>"
      ],
      "text/plain": [
       "   one  two\n",
       "0    1    2\n",
       "1    3    4"
      ]
     },
     "execution_count": 90,
     "metadata": {},
     "output_type": "execute_result"
    }
   ],
   "source": [
    "pd.DataFrame([{'one':1,'two':2},{'one':3,'two':4}])"
   ]
  },
  {
   "cell_type": "markdown",
   "id": "2f39dede-d38c-44f8-8351-f3ad8c774a81",
   "metadata": {},
   "source": [
    "### index DataFrame"
   ]
  },
  {
   "cell_type": "code",
   "execution_count": 92,
   "id": "b4f02390-cd78-4788-9125-99c4ac0a21a8",
   "metadata": {},
   "outputs": [
    {
     "data": {
      "text/plain": [
       "a    0\n",
       "b    2\n",
       "Name: one, dtype: int64"
      ]
     },
     "execution_count": 92,
     "metadata": {},
     "output_type": "execute_result"
    }
   ],
   "source": [
    "a['one']"
   ]
  },
  {
   "cell_type": "code",
   "execution_count": 93,
   "id": "9b3de79c-ef22-47ee-a8cd-001b5ed2a8ce",
   "metadata": {},
   "outputs": [
    {
     "data": {
      "text/html": [
       "<div>\n",
       "<style scoped>\n",
       "    .dataframe tbody tr th:only-of-type {\n",
       "        vertical-align: middle;\n",
       "    }\n",
       "\n",
       "    .dataframe tbody tr th {\n",
       "        vertical-align: top;\n",
       "    }\n",
       "\n",
       "    .dataframe thead th {\n",
       "        text-align: right;\n",
       "    }\n",
       "</style>\n",
       "<table border=\"1\" class=\"dataframe\">\n",
       "  <thead>\n",
       "    <tr style=\"text-align: right;\">\n",
       "      <th></th>\n",
       "      <th>one</th>\n",
       "      <th>two</th>\n",
       "    </tr>\n",
       "  </thead>\n",
       "  <tbody>\n",
       "    <tr>\n",
       "      <th>a</th>\n",
       "      <td>0</td>\n",
       "      <td>1</td>\n",
       "    </tr>\n",
       "    <tr>\n",
       "      <th>b</th>\n",
       "      <td>2</td>\n",
       "      <td>3</td>\n",
       "    </tr>\n",
       "  </tbody>\n",
       "</table>\n",
       "</div>"
      ],
      "text/plain": [
       "   one  two\n",
       "a    0    1\n",
       "b    2    3"
      ]
     },
     "execution_count": 93,
     "metadata": {},
     "output_type": "execute_result"
    }
   ],
   "source": [
    "a[['one','two']]"
   ]
  },
  {
   "cell_type": "code",
   "execution_count": 96,
   "id": "96440b1f-cf58-4ead-af33-f1131a629a52",
   "metadata": {},
   "outputs": [
    {
     "data": {
      "text/html": [
       "<div>\n",
       "<style scoped>\n",
       "    .dataframe tbody tr th:only-of-type {\n",
       "        vertical-align: middle;\n",
       "    }\n",
       "\n",
       "    .dataframe tbody tr th {\n",
       "        vertical-align: top;\n",
       "    }\n",
       "\n",
       "    .dataframe thead th {\n",
       "        text-align: right;\n",
       "    }\n",
       "</style>\n",
       "<table border=\"1\" class=\"dataframe\">\n",
       "  <thead>\n",
       "    <tr style=\"text-align: right;\">\n",
       "      <th></th>\n",
       "      <th>one</th>\n",
       "      <th>two</th>\n",
       "      <th>three</th>\n",
       "    </tr>\n",
       "  </thead>\n",
       "  <tbody>\n",
       "    <tr>\n",
       "      <th>a</th>\n",
       "      <td>0</td>\n",
       "      <td>1</td>\n",
       "      <td>2</td>\n",
       "    </tr>\n",
       "  </tbody>\n",
       "</table>\n",
       "</div>"
      ],
      "text/plain": [
       "   one  two  three\n",
       "a    0    1      2"
      ]
     },
     "execution_count": 96,
     "metadata": {},
     "output_type": "execute_result"
    }
   ],
   "source": [
    "a[0:1]"
   ]
  },
  {
   "cell_type": "code",
   "execution_count": 97,
   "id": "b512e426-576e-4be4-bb87-0fd03f56e884",
   "metadata": {},
   "outputs": [
    {
     "data": {
      "text/html": [
       "<div>\n",
       "<style scoped>\n",
       "    .dataframe tbody tr th:only-of-type {\n",
       "        vertical-align: middle;\n",
       "    }\n",
       "\n",
       "    .dataframe tbody tr th {\n",
       "        vertical-align: top;\n",
       "    }\n",
       "\n",
       "    .dataframe thead th {\n",
       "        text-align: right;\n",
       "    }\n",
       "</style>\n",
       "<table border=\"1\" class=\"dataframe\">\n",
       "  <thead>\n",
       "    <tr style=\"text-align: right;\">\n",
       "      <th></th>\n",
       "      <th>one</th>\n",
       "      <th>two</th>\n",
       "      <th>three</th>\n",
       "    </tr>\n",
       "  </thead>\n",
       "  <tbody>\n",
       "    <tr>\n",
       "      <th>a</th>\n",
       "      <td>0</td>\n",
       "      <td>1</td>\n",
       "      <td>2</td>\n",
       "    </tr>\n",
       "    <tr>\n",
       "      <th>b</th>\n",
       "      <td>2</td>\n",
       "      <td>3</td>\n",
       "      <td>4</td>\n",
       "    </tr>\n",
       "  </tbody>\n",
       "</table>\n",
       "</div>"
      ],
      "text/plain": [
       "   one  two  three\n",
       "a    0    1      2\n",
       "b    2    3      4"
      ]
     },
     "execution_count": 97,
     "metadata": {},
     "output_type": "execute_result"
    }
   ],
   "source": [
    "a['a':'b']"
   ]
  },
  {
   "cell_type": "code",
   "execution_count": 101,
   "id": "87089a97-7e37-49ec-88c4-eae3a57ed079",
   "metadata": {},
   "outputs": [
    {
     "data": {
      "text/plain": [
       "0"
      ]
     },
     "execution_count": 101,
     "metadata": {},
     "output_type": "execute_result"
    }
   ],
   "source": [
    "a.loc['a','one']"
   ]
  },
  {
   "cell_type": "code",
   "execution_count": 102,
   "id": "be919ec8-0122-4cb8-bb20-e38c0018c5bd",
   "metadata": {},
   "outputs": [
    {
     "data": {
      "text/plain": [
       "one      0\n",
       "two      1\n",
       "three    2\n",
       "Name: a, dtype: int64"
      ]
     },
     "execution_count": 102,
     "metadata": {},
     "output_type": "execute_result"
    }
   ],
   "source": [
    "a.loc['a',]"
   ]
  },
  {
   "cell_type": "code",
   "execution_count": 103,
   "id": "03f812b3-d640-40bb-8911-21c26e7a1ca0",
   "metadata": {},
   "outputs": [
    {
     "data": {
      "text/plain": [
       "one      2\n",
       "two      3\n",
       "three    4\n",
       "Name: b, dtype: int64"
      ]
     },
     "execution_count": 103,
     "metadata": {},
     "output_type": "execute_result"
    }
   ],
   "source": [
    "a.iloc[1,]"
   ]
  },
  {
   "cell_type": "markdown",
   "id": "d46b816d-58d0-4e2d-91aa-a8d6ef8bf245",
   "metadata": {},
   "source": [
    "### manipulation"
   ]
  },
  {
   "cell_type": "code",
   "execution_count": 105,
   "id": "669f5de9-9710-49c4-b1bd-2137b07e3077",
   "metadata": {},
   "outputs": [],
   "source": [
    "df1 = pd.DataFrame({'lkey': ['foo', 'bar', 'baz', 'foo'],\n",
    "                   'value': [1, 2, 3, 5]})\n",
    "df2 = pd.DataFrame({'rkey': ['foo', 'bar', 'baz', 'foo'],\n",
    "                    'value': [5, 6, 7, 8]})"
   ]
  },
  {
   "cell_type": "code",
   "execution_count": 108,
   "id": "e195199d-bc8d-4fa8-969f-b6acf4cbdff1",
   "metadata": {},
   "outputs": [
    {
     "data": {
      "text/html": [
       "<div>\n",
       "<style scoped>\n",
       "    .dataframe tbody tr th:only-of-type {\n",
       "        vertical-align: middle;\n",
       "    }\n",
       "\n",
       "    .dataframe tbody tr th {\n",
       "        vertical-align: top;\n",
       "    }\n",
       "\n",
       "    .dataframe thead th {\n",
       "        text-align: right;\n",
       "    }\n",
       "</style>\n",
       "<table border=\"1\" class=\"dataframe\">\n",
       "  <thead>\n",
       "    <tr style=\"text-align: right;\">\n",
       "      <th></th>\n",
       "      <th>lkey</th>\n",
       "      <th>value_x</th>\n",
       "      <th>rkey</th>\n",
       "      <th>value_y</th>\n",
       "    </tr>\n",
       "  </thead>\n",
       "  <tbody>\n",
       "    <tr>\n",
       "      <th>0</th>\n",
       "      <td>foo</td>\n",
       "      <td>1</td>\n",
       "      <td>foo</td>\n",
       "      <td>5</td>\n",
       "    </tr>\n",
       "    <tr>\n",
       "      <th>1</th>\n",
       "      <td>foo</td>\n",
       "      <td>1</td>\n",
       "      <td>foo</td>\n",
       "      <td>8</td>\n",
       "    </tr>\n",
       "    <tr>\n",
       "      <th>2</th>\n",
       "      <td>foo</td>\n",
       "      <td>5</td>\n",
       "      <td>foo</td>\n",
       "      <td>5</td>\n",
       "    </tr>\n",
       "    <tr>\n",
       "      <th>3</th>\n",
       "      <td>foo</td>\n",
       "      <td>5</td>\n",
       "      <td>foo</td>\n",
       "      <td>8</td>\n",
       "    </tr>\n",
       "    <tr>\n",
       "      <th>4</th>\n",
       "      <td>bar</td>\n",
       "      <td>2</td>\n",
       "      <td>bar</td>\n",
       "      <td>6</td>\n",
       "    </tr>\n",
       "    <tr>\n",
       "      <th>5</th>\n",
       "      <td>baz</td>\n",
       "      <td>3</td>\n",
       "      <td>baz</td>\n",
       "      <td>7</td>\n",
       "    </tr>\n",
       "  </tbody>\n",
       "</table>\n",
       "</div>"
      ],
      "text/plain": [
       "  lkey  value_x rkey  value_y\n",
       "0  foo        1  foo        5\n",
       "1  foo        1  foo        8\n",
       "2  foo        5  foo        5\n",
       "3  foo        5  foo        8\n",
       "4  bar        2  bar        6\n",
       "5  baz        3  baz        7"
      ]
     },
     "execution_count": 108,
     "metadata": {},
     "output_type": "execute_result"
    }
   ],
   "source": [
    "df1.merge(df2, left_on='lkey', right_on='rkey')"
   ]
  },
  {
   "cell_type": "code",
   "execution_count": null,
   "id": "4a1f89aa-128c-4143-bb97-4b52f6bf783b",
   "metadata": {},
   "outputs": [],
   "source": []
  }
 ],
 "metadata": {
  "kernelspec": {
   "display_name": "Python 3 (ipykernel)",
   "language": "python",
   "name": "python3"
  },
  "language_info": {
   "codemirror_mode": {
    "name": "ipython",
    "version": 3
   },
   "file_extension": ".py",
   "mimetype": "text/x-python",
   "name": "python",
   "nbconvert_exporter": "python",
   "pygments_lexer": "ipython3",
   "version": "3.8.13"
  }
 },
 "nbformat": 4,
 "nbformat_minor": 5
}
